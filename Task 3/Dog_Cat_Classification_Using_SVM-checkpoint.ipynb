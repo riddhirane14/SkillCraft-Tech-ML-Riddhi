{
 "cells": [
  {
   "cell_type": "markdown",
   "id": "fdd49fa2-1a5a-445f-995e-90bf61e02e73",
   "metadata": {},
   "source": [
    "### Loading necessary libraries"
   ]
  },
  {
   "cell_type": "code",
   "execution_count": 47,
   "id": "2d62474a-8436-465a-bf01-c8b7c72b556a",
   "metadata": {},
   "outputs": [],
   "source": [
    "import os\n",
    "import numpy as np\n",
    "import cv2\n",
    "import matplotlib.pyplot as plt"
   ]
  },
  {
   "cell_type": "code",
   "execution_count": 48,
   "id": "f2276a10-3b07-4ab6-a844-a7860984b922",
   "metadata": {},
   "outputs": [],
   "source": [
    "dir=\"C:/Users/PC-ACER/Downloads/SkiCraft Technology/Task3 Dataset/train\""
   ]
  },
  {
   "cell_type": "markdown",
   "id": "8a0100b6-0404-444c-ba7c-3bc12a791181",
   "metadata": {},
   "source": [
    "### Display first image in the dataset"
   ]
  },
  {
   "cell_type": "code",
   "execution_count": 50,
   "id": "450167e4-2c66-4a45-871b-90a4f6135307",
   "metadata": {},
   "outputs": [],
   "source": [
    "for img in os.listdir(dir):\n",
    "    imgpath=os.path.join(dir,img)\n",
    "    pet_img=cv2.imread(imgpath,0)\n",
    "    cv2.imshow(\"image\",pet_img)\n",
    "    cv2.waitKey(0)\n",
    "    break"
   ]
  },
  {
   "cell_type": "markdown",
   "id": "78feb219-3808-4f11-ac0a-2da094ff873d",
   "metadata": {},
   "source": [
    "### Labeling the dataset"
   ]
  },
  {
   "cell_type": "code",
   "execution_count": 51,
   "id": "88007496-02eb-4b6f-8ca4-4631871ea465",
   "metadata": {},
   "outputs": [],
   "source": [
    "categories=[\"cat\",\"dog\"]"
   ]
  },
  {
   "cell_type": "code",
   "execution_count": 53,
   "id": "a559a664-83e0-4893-9849-38f65ab5fc1c",
   "metadata": {},
   "outputs": [],
   "source": [
    "data=[]\n",
    "for img in os.listdir(dir):\n",
    "    \n",
    "    #image_path\n",
    "    imgpath=os.path.join(dir,img)\n",
    "    pet_img=cv2.imread(imgpath,0)\n",
    "    \n",
    "    #resize image to (50X50)\n",
    "    pet_img=cv2.resize(pet_img,(50,50))\n",
    "    image=np.array(pet_img).flatten()\n",
    "    \n",
    "    #labeling the dataset - cat : 0 , dog : 1\n",
    "    if img[:3]==categories[0] :\n",
    "        data.append([image,0])\n",
    "    else:\n",
    "        data.append([image,1])"
   ]
  },
  {
   "cell_type": "code",
   "execution_count": 60,
   "id": "2ae22a30-b668-476b-a29c-091716a78b85",
   "metadata": {},
   "outputs": [
    {
     "data": {
      "text/plain": [
       "25000"
      ]
     },
     "execution_count": 60,
     "metadata": {},
     "output_type": "execute_result"
    }
   ],
   "source": [
    "len(data)"
   ]
  },
  {
   "cell_type": "code",
   "execution_count": 61,
   "id": "d7e8bc4c-b79a-4e08-9fb3-73169b8f27da",
   "metadata": {},
   "outputs": [
    {
     "data": {
      "text/plain": [
       "[array([38, 26, 33, ..., 79, 80, 81], dtype=uint8), 0]"
      ]
     },
     "execution_count": 61,
     "metadata": {},
     "output_type": "execute_result"
    }
   ],
   "source": [
    "data[12499]"
   ]
  },
  {
   "cell_type": "code",
   "execution_count": 62,
   "id": "4c2f8c94-91f6-4f34-ad25-9018647b4f78",
   "metadata": {},
   "outputs": [
    {
     "data": {
      "text/plain": [
       "[array([110, 161, 158, ...,  75,  78,  76], dtype=uint8), 1]"
      ]
     },
     "execution_count": 62,
     "metadata": {},
     "output_type": "execute_result"
    }
   ],
   "source": [
    "data[12500]"
   ]
  },
  {
   "cell_type": "markdown",
   "id": "081f87fd-4b20-4a17-8d9f-e6b6a392e677",
   "metadata": {},
   "source": [
    "### Saving the new data"
   ]
  },
  {
   "cell_type": "code",
   "execution_count": 65,
   "id": "7d08c392-2e3f-4896-8db8-36f53c1fa232",
   "metadata": {},
   "outputs": [],
   "source": [
    "import pickle"
   ]
  },
  {
   "cell_type": "code",
   "execution_count": 66,
   "id": "e15afe35-21dc-4516-8eea-47c0f630e94f",
   "metadata": {},
   "outputs": [],
   "source": [
    "pick_in=open(\"final_data.pickle\",\"wb\")\n",
    "pickle.dump(data,pick_in)\n",
    "pick_in.close()"
   ]
  },
  {
   "cell_type": "code",
   "execution_count": null,
   "id": "56ac3d9e-e594-4d85-b8bf-b6379189ecd1",
   "metadata": {},
   "outputs": [],
   "source": []
  }
 ],
 "metadata": {
  "kernelspec": {
   "display_name": "Python 3 (ipykernel)",
   "language": "python",
   "name": "python3"
  },
  "language_info": {
   "codemirror_mode": {
    "name": "ipython",
    "version": 3
   },
   "file_extension": ".py",
   "mimetype": "text/x-python",
   "name": "python",
   "nbconvert_exporter": "python",
   "pygments_lexer": "ipython3",
   "version": "3.11.7"
  }
 },
 "nbformat": 4,
 "nbformat_minor": 5
}
