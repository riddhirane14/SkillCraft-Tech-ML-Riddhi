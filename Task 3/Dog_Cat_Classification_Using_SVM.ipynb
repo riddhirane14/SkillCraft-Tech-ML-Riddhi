{
 "cells": [
  {
   "cell_type": "markdown",
   "id": "fdd49fa2-1a5a-445f-995e-90bf61e02e73",
   "metadata": {},
   "source": [
    "### Loading necessary libraries"
   ]
  },
  {
   "cell_type": "code",
   "execution_count": 2,
   "id": "2d62474a-8436-465a-bf01-c8b7c72b556a",
   "metadata": {},
   "outputs": [],
   "source": [
    "import numpy as np\n",
    "import pandas as pd\n",
    "import matplotlib.pyplot as plt\n",
    "import seaborn as sns\n",
    "import warnings\n",
    "warnings.filterwarnings(\"ignore\")\n",
    "import os\n",
    "import cv2"
   ]
  },
  {
   "cell_type": "code",
   "execution_count": 3,
   "id": "f2276a10-3b07-4ab6-a844-a7860984b922",
   "metadata": {},
   "outputs": [],
   "source": [
    "dir=\"C:/Users/PC-ACER/Downloads/SkiCraft Technology/Task3 Dataset/train\""
   ]
  },
  {
   "cell_type": "markdown",
   "id": "5ab332f6",
   "metadata": {},
   "source": [
    "### Data Analysis"
   ]
  },
  {
   "cell_type": "markdown",
   "id": "8a0100b6-0404-444c-ba7c-3bc12a791181",
   "metadata": {},
   "source": [
    "#### Display first image in the dataset"
   ]
  },
  {
   "cell_type": "code",
   "execution_count": 4,
   "id": "450167e4-2c66-4a45-871b-90a4f6135307",
   "metadata": {},
   "outputs": [],
   "source": [
    "for img in os.listdir(dir):\n",
    "    imgpath=os.path.join(dir,img)\n",
    "    pet_img=cv2.imread(imgpath,0)\n",
    "    cv2.imshow(\"image\",pet_img)\n",
    "    cv2.waitKey(0)\n",
    "    break"
   ]
  },
  {
   "cell_type": "markdown",
   "id": "78feb219-3808-4f11-ac0a-2da094ff873d",
   "metadata": {},
   "source": [
    "#### Labeling the dataset"
   ]
  },
  {
   "cell_type": "code",
   "execution_count": 5,
   "id": "88007496-02eb-4b6f-8ca4-4631871ea465",
   "metadata": {},
   "outputs": [],
   "source": [
    "categories=[\"cat\",\"dog\"]"
   ]
  },
  {
   "cell_type": "code",
   "execution_count": 53,
   "id": "a559a664-83e0-4893-9849-38f65ab5fc1c",
   "metadata": {},
   "outputs": [],
   "source": [
    "data=[]\n",
    "for img in os.listdir(dir):\n",
    "    \n",
    "    #image_path\n",
    "    imgpath=os.path.join(dir,img)\n",
    "    pet_img=cv2.imread(imgpath,0)\n",
    "    \n",
    "    #resize image to (50X50)\n",
    "    pet_img=cv2.resize(pet_img,(50,50))\n",
    "    image=np.array(pet_img).flatten()\n",
    "    \n",
    "    #labeling the dataset - cat : 0 , dog : 1\n",
    "    if img[:3]==categories[0] :\n",
    "        data.append([image,0])\n",
    "    else:\n",
    "        data.append([image,1])"
   ]
  },
  {
   "cell_type": "code",
   "execution_count": 17,
   "id": "2ae22a30-b668-476b-a29c-091716a78b85",
   "metadata": {},
   "outputs": [
    {
     "name": "stdout",
     "output_type": "stream",
     "text": [
      "Total no. of images in dataset : 25000\n"
     ]
    }
   ],
   "source": [
    "print(\"Total no. of images in dataset :\",len(data))"
   ]
  },
  {
   "cell_type": "code",
   "execution_count": 61,
   "id": "d7e8bc4c-b79a-4e08-9fb3-73169b8f27da",
   "metadata": {},
   "outputs": [
    {
     "data": {
      "text/plain": [
       "[array([38, 26, 33, ..., 79, 80, 81], dtype=uint8), 0]"
      ]
     },
     "execution_count": 61,
     "metadata": {},
     "output_type": "execute_result"
    }
   ],
   "source": [
    "data[12499]"
   ]
  },
  {
   "cell_type": "code",
   "execution_count": 62,
   "id": "4c2f8c94-91f6-4f34-ad25-9018647b4f78",
   "metadata": {},
   "outputs": [
    {
     "data": {
      "text/plain": [
       "[array([110, 161, 158, ...,  75,  78,  76], dtype=uint8), 1]"
      ]
     },
     "execution_count": 62,
     "metadata": {},
     "output_type": "execute_result"
    }
   ],
   "source": [
    "data[12500]"
   ]
  },
  {
   "cell_type": "markdown",
   "id": "081f87fd-4b20-4a17-8d9f-e6b6a392e677",
   "metadata": {},
   "source": [
    "### Saving the new data"
   ]
  },
  {
   "cell_type": "code",
   "execution_count": 6,
   "id": "7d08c392-2e3f-4896-8db8-36f53c1fa232",
   "metadata": {},
   "outputs": [],
   "source": [
    "import pickle"
   ]
  },
  {
   "cell_type": "code",
   "execution_count": 66,
   "id": "e15afe35-21dc-4516-8eea-47c0f630e94f",
   "metadata": {},
   "outputs": [],
   "source": [
    "pick_in=open(\"final_data.pickle\",\"wb\")\n",
    "pickle.dump(data,pick_in)\n",
    "pick_in.close()"
   ]
  },
  {
   "cell_type": "markdown",
   "id": "31f69ea0-2ce8-45fb-9d34-80c91dfbcc9e",
   "metadata": {},
   "source": [
    "### Loading the new data"
   ]
  },
  {
   "cell_type": "code",
   "execution_count": 7,
   "id": "f4d690b6-9f90-462c-b722-e7ba963dd4de",
   "metadata": {},
   "outputs": [],
   "source": [
    "pick_in=open(\"final_data.pickle\",\"rb\")\n",
    "data=pickle.load(pick_in)\n",
    "pick_in.close()"
   ]
  },
  {
   "cell_type": "code",
   "execution_count": 8,
   "id": "c5e9a16f-1cca-48ab-93e9-1097e205a0c1",
   "metadata": {},
   "outputs": [
    {
     "name": "stdout",
     "output_type": "stream",
     "text": [
      "Length of data : 25000\n"
     ]
    }
   ],
   "source": [
    "print(\"Length of data :\",len(data))"
   ]
  },
  {
   "cell_type": "code",
   "execution_count": 9,
   "id": "02596e7c",
   "metadata": {},
   "outputs": [
    {
     "data": {
      "text/plain": [
       "[array([172, 180, 186, ...,   2,   2,   2], dtype=uint8), 0]"
      ]
     },
     "execution_count": 9,
     "metadata": {},
     "output_type": "execute_result"
    }
   ],
   "source": [
    "data[0]"
   ]
  },
  {
   "cell_type": "markdown",
   "id": "ec1543ab-b1a2-4b0d-add1-48a61a8b7ac6",
   "metadata": {},
   "source": [
    "### Extracting feature and label column from dataset"
   ]
  },
  {
   "cell_type": "code",
   "execution_count": 10,
   "id": "73e35c53-bfe1-4caf-b336-5185d468adbb",
   "metadata": {},
   "outputs": [],
   "source": [
    "import random"
   ]
  },
  {
   "cell_type": "code",
   "execution_count": 11,
   "id": "32fe8c09-7df7-4c5e-ae4f-8dc79f6ceec4",
   "metadata": {},
   "outputs": [],
   "source": [
    "random.shuffle(data)"
   ]
  },
  {
   "cell_type": "code",
   "execution_count": 12,
   "id": "d2b4854c-8aba-4b20-a8cf-cccbb31b8cb0",
   "metadata": {},
   "outputs": [],
   "source": [
    "features=[]\n",
    "labels=[]\n",
    "\n",
    "for feature,label in data:\n",
    "    features.append(feature)\n",
    "    labels.append(label)"
   ]
  },
  {
   "cell_type": "code",
   "execution_count": 13,
   "id": "2ebaa9b8-b5e1-4729-97ca-c37663e2d6cc",
   "metadata": {
    "scrolled": true
   },
   "outputs": [
    {
     "name": "stdout",
     "output_type": "stream",
     "text": [
      "length of features : 25000\n"
     ]
    }
   ],
   "source": [
    "print(\"length of features :\",len(features))"
   ]
  },
  {
   "cell_type": "code",
   "execution_count": 14,
   "id": "4f144d30",
   "metadata": {},
   "outputs": [
    {
     "data": {
      "text/plain": [
       "array([163, 165, 163, ..., 143, 142, 141], dtype=uint8)"
      ]
     },
     "execution_count": 14,
     "metadata": {},
     "output_type": "execute_result"
    }
   ],
   "source": [
    "features[0]"
   ]
  },
  {
   "cell_type": "code",
   "execution_count": 15,
   "id": "1cc8b28b-50b6-47b0-8084-8444e8dae427",
   "metadata": {
    "scrolled": true
   },
   "outputs": [
    {
     "name": "stdout",
     "output_type": "stream",
     "text": [
      "Length of labels : 25000\n"
     ]
    }
   ],
   "source": [
    "print(\"Length of labels :\",len(labels))"
   ]
  },
  {
   "cell_type": "code",
   "execution_count": 16,
   "id": "51ff9812",
   "metadata": {},
   "outputs": [
    {
     "data": {
      "text/plain": [
       "0"
      ]
     },
     "execution_count": 16,
     "metadata": {},
     "output_type": "execute_result"
    }
   ],
   "source": [
    "labels[0]"
   ]
  },
  {
   "cell_type": "markdown",
   "id": "32cb9b96-96f0-4178-a08d-25e02ed912d2",
   "metadata": {},
   "source": [
    "### Applying ML model : SVM"
   ]
  },
  {
   "cell_type": "code",
   "execution_count": 12,
   "id": "da01cf61-a3b9-4ea1-b5ab-a51c1fcc6542",
   "metadata": {},
   "outputs": [],
   "source": [
    "X=features\n",
    "Y=labels"
   ]
  },
  {
   "cell_type": "code",
   "execution_count": 13,
   "id": "0fc7f7d5-8545-496d-a54d-d680415fd45c",
   "metadata": {},
   "outputs": [],
   "source": [
    "from sklearn.model_selection import train_test_split"
   ]
  },
  {
   "cell_type": "code",
   "execution_count": 14,
   "id": "64fcb682-256d-419e-93bf-92cc6a7082d6",
   "metadata": {},
   "outputs": [],
   "source": [
    "X_train,X_test,Y_train,Y_test=train_test_split(X,Y,test_size=0.2,random_state=45)"
   ]
  },
  {
   "cell_type": "code",
   "execution_count": 22,
   "id": "ff155b3f-8f67-4f3b-9c86-3b03f49206b5",
   "metadata": {},
   "outputs": [
    {
     "name": "stdout",
     "output_type": "stream",
     "text": [
      "Length of X_train : 20000\n",
      "Length of X_test : 5000\n"
     ]
    }
   ],
   "source": [
    "print(\"Length of X_train :\",len(X_train))\n",
    "print(\"Length of X_test :\",len(X_test))"
   ]
  },
  {
   "cell_type": "code",
   "execution_count": 24,
   "id": "cc6ce8ba-d8d5-4bf2-bd5d-f5743974f095",
   "metadata": {},
   "outputs": [],
   "source": [
    "from sklearn.svm import SVC"
   ]
  },
  {
   "cell_type": "code",
   "execution_count": 25,
   "id": "b943d95c-6df5-4ebe-8d66-4547c562fb05",
   "metadata": {},
   "outputs": [],
   "source": [
    "clf=SVC(kernel=\"poly\",gamma=\"auto\")"
   ]
  },
  {
   "cell_type": "code",
   "execution_count": 26,
   "id": "a851bfe9-21a1-4f3b-ad2c-7b72c4100a74",
   "metadata": {},
   "outputs": [
    {
     "data": {
      "text/html": [
       "<style>#sk-container-id-2 {color: black;background-color: white;}#sk-container-id-2 pre{padding: 0;}#sk-container-id-2 div.sk-toggleable {background-color: white;}#sk-container-id-2 label.sk-toggleable__label {cursor: pointer;display: block;width: 100%;margin-bottom: 0;padding: 0.3em;box-sizing: border-box;text-align: center;}#sk-container-id-2 label.sk-toggleable__label-arrow:before {content: \"▸\";float: left;margin-right: 0.25em;color: #696969;}#sk-container-id-2 label.sk-toggleable__label-arrow:hover:before {color: black;}#sk-container-id-2 div.sk-estimator:hover label.sk-toggleable__label-arrow:before {color: black;}#sk-container-id-2 div.sk-toggleable__content {max-height: 0;max-width: 0;overflow: hidden;text-align: left;background-color: #f0f8ff;}#sk-container-id-2 div.sk-toggleable__content pre {margin: 0.2em;color: black;border-radius: 0.25em;background-color: #f0f8ff;}#sk-container-id-2 input.sk-toggleable__control:checked~div.sk-toggleable__content {max-height: 200px;max-width: 100%;overflow: auto;}#sk-container-id-2 input.sk-toggleable__control:checked~label.sk-toggleable__label-arrow:before {content: \"▾\";}#sk-container-id-2 div.sk-estimator input.sk-toggleable__control:checked~label.sk-toggleable__label {background-color: #d4ebff;}#sk-container-id-2 div.sk-label input.sk-toggleable__control:checked~label.sk-toggleable__label {background-color: #d4ebff;}#sk-container-id-2 input.sk-hidden--visually {border: 0;clip: rect(1px 1px 1px 1px);clip: rect(1px, 1px, 1px, 1px);height: 1px;margin: -1px;overflow: hidden;padding: 0;position: absolute;width: 1px;}#sk-container-id-2 div.sk-estimator {font-family: monospace;background-color: #f0f8ff;border: 1px dotted black;border-radius: 0.25em;box-sizing: border-box;margin-bottom: 0.5em;}#sk-container-id-2 div.sk-estimator:hover {background-color: #d4ebff;}#sk-container-id-2 div.sk-parallel-item::after {content: \"\";width: 100%;border-bottom: 1px solid gray;flex-grow: 1;}#sk-container-id-2 div.sk-label:hover label.sk-toggleable__label {background-color: #d4ebff;}#sk-container-id-2 div.sk-serial::before {content: \"\";position: absolute;border-left: 1px solid gray;box-sizing: border-box;top: 0;bottom: 0;left: 50%;z-index: 0;}#sk-container-id-2 div.sk-serial {display: flex;flex-direction: column;align-items: center;background-color: white;padding-right: 0.2em;padding-left: 0.2em;position: relative;}#sk-container-id-2 div.sk-item {position: relative;z-index: 1;}#sk-container-id-2 div.sk-parallel {display: flex;align-items: stretch;justify-content: center;background-color: white;position: relative;}#sk-container-id-2 div.sk-item::before, #sk-container-id-2 div.sk-parallel-item::before {content: \"\";position: absolute;border-left: 1px solid gray;box-sizing: border-box;top: 0;bottom: 0;left: 50%;z-index: -1;}#sk-container-id-2 div.sk-parallel-item {display: flex;flex-direction: column;z-index: 1;position: relative;background-color: white;}#sk-container-id-2 div.sk-parallel-item:first-child::after {align-self: flex-end;width: 50%;}#sk-container-id-2 div.sk-parallel-item:last-child::after {align-self: flex-start;width: 50%;}#sk-container-id-2 div.sk-parallel-item:only-child::after {width: 0;}#sk-container-id-2 div.sk-dashed-wrapped {border: 1px dashed gray;margin: 0 0.4em 0.5em 0.4em;box-sizing: border-box;padding-bottom: 0.4em;background-color: white;}#sk-container-id-2 div.sk-label label {font-family: monospace;font-weight: bold;display: inline-block;line-height: 1.2em;}#sk-container-id-2 div.sk-label-container {text-align: center;}#sk-container-id-2 div.sk-container {/* jupyter's `normalize.less` sets `[hidden] { display: none; }` but bootstrap.min.css set `[hidden] { display: none !important; }` so we also need the `!important` here to be able to override the default hidden behavior on the sphinx rendered scikit-learn.org. See: https://github.com/scikit-learn/scikit-learn/issues/21755 */display: inline-block !important;position: relative;}#sk-container-id-2 div.sk-text-repr-fallback {display: none;}</style><div id=\"sk-container-id-2\" class=\"sk-top-container\"><div class=\"sk-text-repr-fallback\"><pre>SVC(gamma=&#x27;auto&#x27;, kernel=&#x27;poly&#x27;)</pre><b>In a Jupyter environment, please rerun this cell to show the HTML representation or trust the notebook. <br />On GitHub, the HTML representation is unable to render, please try loading this page with nbviewer.org.</b></div><div class=\"sk-container\" hidden><div class=\"sk-item\"><div class=\"sk-estimator sk-toggleable\"><input class=\"sk-toggleable__control sk-hidden--visually\" id=\"sk-estimator-id-2\" type=\"checkbox\" checked><label for=\"sk-estimator-id-2\" class=\"sk-toggleable__label sk-toggleable__label-arrow\">SVC</label><div class=\"sk-toggleable__content\"><pre>SVC(gamma=&#x27;auto&#x27;, kernel=&#x27;poly&#x27;)</pre></div></div></div></div></div>"
      ],
      "text/plain": [
       "SVC(gamma='auto', kernel='poly')"
      ]
     },
     "execution_count": 26,
     "metadata": {},
     "output_type": "execute_result"
    }
   ],
   "source": [
    "clf.fit(X_train,Y_train)"
   ]
  },
  {
   "cell_type": "markdown",
   "id": "45c5204d-f871-4540-8946-6c8b126d8e9b",
   "metadata": {},
   "source": [
    "### Saving Model"
   ]
  },
  {
   "cell_type": "code",
   "execution_count": null,
   "id": "8c52383c-970f-4328-8ec5-872fae740c82",
   "metadata": {},
   "outputs": [],
   "source": [
    "pick=open(\"model.pkl\",\"wb\")\n",
    "pickle.dump(clf,pick)\n",
    "pick.close()"
   ]
  },
  {
   "cell_type": "markdown",
   "id": "2fa0ef81-8842-44e4-9c8b-861322c71507",
   "metadata": {},
   "source": [
    "### Loading model"
   ]
  },
  {
   "cell_type": "code",
   "execution_count": 15,
   "id": "3854af32-8dc1-4171-a702-39660ae1a3a7",
   "metadata": {},
   "outputs": [
    {
     "data": {
      "text/plain": [
       "<function BufferedReader.close>"
      ]
     },
     "execution_count": 15,
     "metadata": {},
     "output_type": "execute_result"
    }
   ],
   "source": [
    "pick=open(\"model.pkl\",\"rb\")\n",
    "model=pickle.load(pick)\n",
    "pick.close"
   ]
  },
  {
   "cell_type": "code",
   "execution_count": 16,
   "id": "c17c4c45-064f-4607-82a3-4524cd8656fa",
   "metadata": {},
   "outputs": [],
   "source": [
    "Y_pred=model.predict(X_test)"
   ]
  },
  {
   "cell_type": "code",
   "execution_count": 17,
   "id": "a2d30d4a-47a6-4b7f-b143-81598f367b00",
   "metadata": {},
   "outputs": [
    {
     "data": {
      "text/plain": [
       "array([0, 0, 1, ..., 1, 1, 1], dtype=int64)"
      ]
     },
     "execution_count": 17,
     "metadata": {},
     "output_type": "execute_result"
    }
   ],
   "source": [
    "Y_pred"
   ]
  },
  {
   "cell_type": "markdown",
   "id": "276e7fb8-0678-40f5-b45d-44091646777b",
   "metadata": {},
   "source": [
    "### Predicting 6th datapoint in Xtest"
   ]
  },
  {
   "cell_type": "code",
   "execution_count": 65,
   "id": "16ef9fde-1426-4160-9b1b-022407051c27",
   "metadata": {},
   "outputs": [
    {
     "data": {
      "image/png": "[encoded data removed]",
      "text/plain": [
       "<Figure size 640x480 with 1 Axes>"
      ]
     },
     "metadata": {},
     "output_type": "display_data"
    }
   ],
   "source": [
    "pet=X_test[5].reshape(50,50)\n",
    "plt.imshow(pet,cmap=\"grey\")\n",
    "plt.show()"
   ]
  },
  {
   "cell_type": "code",
   "execution_count": 66,
   "id": "4b3899cf-abdf-4a0e-96ee-62fbb7c6f15b",
   "metadata": {},
   "outputs": [
    {
     "name": "stdout",
     "output_type": "stream",
     "text": [
      "Prediction for 6th datapoint in X_test : dog\n"
     ]
    }
   ],
   "source": [
    "print(\"Prediction for 6th datapoint in X_test :\",categories[Y_pred[5]])"
   ]
  },
  {
   "cell_type": "markdown",
   "id": "06d3b2be-97a8-4365-b5c7-aaee36c38200",
   "metadata": {},
   "source": [
    "### Analysing Model"
   ]
  },
  {
   "cell_type": "code",
   "execution_count": 36,
   "id": "501f2733-fefc-4be4-8bdf-b824da98ba9a",
   "metadata": {},
   "outputs": [],
   "source": [
    "from sklearn.metrics import accuracy_score\n",
    "from sklearn.metrics import confusion_matrix\n",
    "from sklearn.metrics import classification_report"
   ]
  },
  {
   "cell_type": "code",
   "execution_count": 19,
   "id": "e764dc03-e12a-4cc4-8622-3c105f6f9101",
   "metadata": {},
   "outputs": [
    {
     "name": "stdout",
     "output_type": "stream",
     "text": [
      "Accuracy of model : 0.7994\n"
     ]
    }
   ],
   "source": [
    "# Accuracy score\n",
    "print(\"Accuracy of model :\",accuracy_score(Y_pred,Y_test))"
   ]
  },
  {
   "cell_type": "code",
   "execution_count": 39,
   "id": "b443a36e-996c-414b-8cdf-d93017a01b61",
   "metadata": {},
   "outputs": [
    {
     "name": "stdout",
     "output_type": "stream",
     "text": [
      "Classification report :\n",
      "               precision    recall  f1-score   support\n",
      "\n",
      "           0       0.81      0.79      0.80      2564\n",
      "           1       0.79      0.81      0.80      2436\n",
      "\n",
      "    accuracy                           0.80      5000\n",
      "   macro avg       0.80      0.80      0.80      5000\n",
      "weighted avg       0.80      0.80      0.80      5000\n",
      "\n"
     ]
    }
   ],
   "source": [
    "#Classification report\n",
    "print(\"Classification report :\\n\",classification_report(Y_pred,Y_test))"
   ]
  },
  {
   "cell_type": "code",
   "execution_count": 43,
   "id": "d47444de-9f77-45a0-a851-8150e08c6f92",
   "metadata": {},
   "outputs": [
    {
     "data": {
      "image/png": "[encoded data removed]",
      "text/plain": [
       "<Figure size 640x480 with 2 Axes>"
      ]
     },
     "metadata": {},
     "output_type": "display_data"
    }
   ],
   "source": [
    "#Confusion matrix\n",
    "cm = confusion_matrix(Y_pred, Y_test)\n",
    "sns.heatmap(cm, annot=True, fmt=\"d\", cmap=\"Blues\")\n",
    "plt.xlabel('Predicted labels')\n",
    "plt.ylabel('True labels')\n",
    "plt.show()"
   ]
  },
  {
   "cell_type": "markdown",
   "id": "7ec71d28-1f30-4e6d-a5ae-93a11c0c2c5a",
   "metadata": {},
   "source": [
    "##### The SVM model accurately classified Kaggle dataset images of cats and dogs. The confusion matrix visualized its performance, revealing precise predictions for both classes."
   ]
  },
  {
   "cell_type": "code",
   "execution_count": null,
   "id": "21a8def9-8ab1-4c6b-bcea-6c39699dc3ab",
   "metadata": {},
   "outputs": [],
   "source": []
  }
 ],
 "metadata": {
  "kernelspec": {
   "display_name": "Python 3 (ipykernel)",
   "language": "python",
   "name": "python3"
  },
  "language_info": {
   "codemirror_mode": {
    "name": "ipython",
    "version": 3
   },
   "file_extension": ".py",
   "mimetype": "text/x-python",
   "name": "python",
   "nbconvert_exporter": "python",
   "pygments_lexer": "ipython3",
   "version": "3.12.2"
  }
 },
 "nbformat": 4,
 "nbformat_minor": 5
}
