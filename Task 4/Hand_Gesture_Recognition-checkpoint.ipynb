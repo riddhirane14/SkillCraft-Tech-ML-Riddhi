{
 "cells": [
  {
   "cell_type": "markdown",
   "id": "2912fcbb-cfaa-4a82-8650-7470094c4951",
   "metadata": {},
   "source": [
    "## Importing Necessary Libraries"
   ]
  },
  {
   "cell_type": "code",
   "execution_count": 1,
   "id": "166fa5a5-3b5c-40ed-a240-8906781c3714",
   "metadata": {},
   "outputs": [],
   "source": [
    "import numpy as np\n",
    "import pandas\n",
    "import cv2\n",
    "import os\n",
    "from cvzone.HandTrackingModule import HandDetector\n",
    "import warnings\n",
    "warnings.filterwarnings(\"ignore\")"
   ]
  },
  {
   "cell_type": "markdown",
   "id": "cbe3adee-8a67-4348-b507-fb017304c3fa",
   "metadata": {},
   "source": [
    "## Variables"
   ]
  },
  {
   "cell_type": "code",
   "execution_count": 33,
   "id": "5a8b9d87-3822-4bfd-817e-49500cfa281c",
   "metadata": {},
   "outputs": [],
   "source": [
    "width,height=1280,720\n",
    "folderpath=\"./Hand Gesture Recognisition\"\n",
    "screenshotPath=\"./Screenshot\""
   ]
  },
  {
   "cell_type": "markdown",
   "id": "6e2a7ca2-1983-4191-b054-718121b07882",
   "metadata": {},
   "source": [
    "## Camera Setup"
   ]
  },
  {
   "cell_type": "code",
   "execution_count": 3,
   "id": "eecaf86c-4440-4e0b-a50c-da4d1baf71fd",
   "metadata": {},
   "outputs": [
    {
     "data": {
      "text/plain": [
       "True"
      ]
     },
     "execution_count": 3,
     "metadata": {},
     "output_type": "execute_result"
    }
   ],
   "source": [
    "cap=cv2.VideoCapture(0)\n",
    "cap.set(3,width)\n",
    "cap.set(4,height)"
   ]
  },
  {
   "cell_type": "markdown",
   "id": "a96addc8-6008-4986-b746-9199d8b4493d",
   "metadata": {},
   "source": [
    "## Path of ppt Slide"
   ]
  },
  {
   "cell_type": "code",
   "execution_count": 17,
   "id": "abe76c5d-5e6d-4438-aacf-eb4b8fbb11d9",
   "metadata": {},
   "outputs": [
    {
     "name": "stdout",
     "output_type": "stream",
     "text": [
      "['1.jpg', '2.jpg', '3.jpg', '4.jpg', '5.jpg', '6.jpg', '7.jpg', '8.jpg', '9.jpg', '10.jpg', '11.jpg', '.ipynb_checkpoints']\n"
     ]
    }
   ],
   "source": [
    "pathImages=sorted(os.listdir(folderpath),key=len)  ## to sort the images if more than 10\n",
    "print(pathImages)"
   ]
  },
  {
   "cell_type": "markdown",
   "id": "42a97bf3-d0a0-4b2c-b191-a80ad20effdb",
   "metadata": {},
   "source": [
    "## Variables"
   ]
  },
  {
   "cell_type": "code",
   "execution_count": 32,
   "id": "28d560b7-ac77-4d27-b27a-4446d9a2eef1",
   "metadata": {},
   "outputs": [],
   "source": [
    "image_number=0\n",
    "ht,wd=int(120*1.5),int(213*1.5) #height and width of camera screen on slide\n",
    "zoom_factor = 1.0 # scale for zoom\n",
    "index_Number=1  # image number of image for which screenshot is been taken"
   ]
  },
  {
   "cell_type": "code",
   "execution_count": 19,
   "id": "ec524f98-7489-4ef9-aa8c-3f118b772f21",
   "metadata": {},
   "outputs": [],
   "source": [
    "#Hand Detector Variable\n",
    "detector=HandDetector(detectionCon=0.8,maxHands=1)\n",
    "#consider a object as hand if it is 80% sure about that\n",
    "#consider only one hand\n",
    "\n",
    "#constrain to region\n",
    "gestureThreshold=480\n",
    "\n",
    "#Variables of actions on moving slide\n",
    "buttonPressed=False\n",
    "buttonCounter=0\n",
    "buttonDelay=20\n",
    "\n",
    "# Variable of reseting the drawn lines\n",
    "annotation=[[]]\n",
    "annotationNumber=0\n",
    "annotationStart=False"
   ]
  },
  {
   "cell_type": "markdown",
   "id": "b7679d8a-ca23-4aca-aa60-30b31a8057a5",
   "metadata": {},
   "source": [
    "## Gestures"
   ]
  },
  {
   "cell_type": "markdown",
   "id": "4e837482-a3bf-4933-9190-59e03b7864a2",
   "metadata": {},
   "source": [
    "#### Gesture 1 - Move to Previous Slide : when thumbs is up"
   ]
  },
  {
   "cell_type": "code",
   "execution_count": 20,
   "id": "f48ce18b-d56c-4418-96e8-cf7718599fb5",
   "metadata": {},
   "outputs": [],
   "source": [
    "def Previous_Slide(image_number, annotation, annotationNumber,buttonPressed):\n",
    "    annotationStart=False\n",
    "    if image_number>0:   # if ppt is not in slide no. 0\n",
    "        \n",
    "        image_number-=1\n",
    "        \n",
    "        #set buttonPressed to true is ppt is moved left\n",
    "        buttonPressed=True  \n",
    "        \n",
    "        # reset the pointer : that is remove the mark of pointer when moving to different slide\n",
    "        annotation=[[]]\n",
    "        annotationNumber=0\n",
    "        \n",
    "    return image_number, annotation, annotationNumber,buttonPressed"
   ]
  },
  {
   "cell_type": "markdown",
   "id": "6d56852d-0c5f-41e6-be93-e787a36824d7",
   "metadata": {},
   "source": [
    "#### Gesture 2 - Move to Next Slide : when pinky finger is up"
   ]
  },
  {
   "cell_type": "code",
   "execution_count": 29,
   "id": "7947d4fc-36c1-49f2-93df-523224c178aa",
   "metadata": {},
   "outputs": [],
   "source": [
    "def Next_Slide(image_number, annotation, annotationNumber, pathImages,buttonPressed):\n",
    "    annotationStart=False           \n",
    "    if image_number<len(pathImages)-1 :    #if ppt is not in last slide\n",
    "        \n",
    "        image_number+=1\n",
    "        \n",
    "        #set buttonPressed to true is ppt is moved right\n",
    "        buttonPressed=True  \n",
    "        \n",
    "        # reset the pointer : that is remove the mark of pointer when moving to different slide\n",
    "        annotation=[[]]\n",
    "        annotationNumber=0\n",
    "        annotationStart=False\n",
    "\n",
    "    return image_number, annotation, annotationNumber, buttonPressed"
   ]
  },
  {
   "cell_type": "markdown",
   "id": "c12ba561-65f3-4e3a-b7f1-ad5dc2f69c91",
   "metadata": {},
   "source": [
    "#### Gesture 3 - Zoom in by 10% : when thumb and index finger is up"
   ]
  },
  {
   "cell_type": "code",
   "execution_count": 22,
   "id": "70548c32-a739-4884-b55f-e3f55d8487bc",
   "metadata": {},
   "outputs": [],
   "source": [
    "def Zoom_In(zoom_factor,buttonPressed):\n",
    "    zoom_factor *= 1.1  # Increase zoom by 10%\n",
    "    buttonPressed = True\n",
    "    \n",
    "    return zoom_factor,buttonPressed"
   ]
  },
  {
   "cell_type": "markdown",
   "id": "603ff245-6156-4984-b6f0-e74892ec9e49",
   "metadata": {},
   "source": [
    "#### Gesture 4 - Zoom out by 10 % : when index finger and pinky finger are up"
   ]
  },
  {
   "cell_type": "code",
   "execution_count": 23,
   "id": "d8ed5aab-0cba-49df-a3e8-898e20fae87e",
   "metadata": {},
   "outputs": [],
   "source": [
    "def Zoom_Out(zoom_factor,buttonPressed):\n",
    "    zoom_factor *= 0.9  # zoom out by 10%\n",
    "    buttonPressed = True\n",
    "\n",
    "    return zoom_factor,buttonPressed"
   ]
  },
  {
   "cell_type": "markdown",
   "id": "1da3ef37-dfe2-4c25-a2c8-cda3bfde7e52",
   "metadata": {},
   "source": [
    "#### Gesture 5 - show pointer : when index finger and middle finger are up"
   ]
  },
  {
   "cell_type": "code",
   "execution_count": 24,
   "id": "26314dae-2ae2-43fd-82f2-5e73c0083175",
   "metadata": {},
   "outputs": [],
   "source": [
    "def Show_Pointer(imgCurrent, indexFingerPosition):\n",
    "    cv2.circle(imgCurrent, indexFingerPosition, 12, (0, 0, 255), cv2.FILLED)\n",
    "    return imgCurrent"
   ]
  },
  {
   "cell_type": "markdown",
   "id": "fd5b1806-888e-4185-8d82-6bb489727122",
   "metadata": {},
   "source": [
    "#### Gesture 6 - draw in ppt : when index finger is up"
   ]
  },
  {
   "cell_type": "code",
   "execution_count": 25,
   "id": "b7abdb5d-02c9-40ab-8e31-d577d90c5af5",
   "metadata": {},
   "outputs": [],
   "source": [
    "def Start_Drawing(annotationStart, annotationNumber, annotation, imgCurrent, indexFingerPosition):\n",
    "    if annotationStart==False:\n",
    "        annotationStart=True\n",
    "        annotationNumber+=1\n",
    "        annotation.append([])\n",
    "        \n",
    "    cv2.circle(imgCurrent,indexFingerPosition,12,(0,0,255),cv2.FILLED)\n",
    "    annotation[annotationNumber].append(indexFingerPosition)\n",
    "    # above two lines show the till the pointer runs without changing index_finger to any other finger pointer_position \n",
    "    # (indexFinindexFingerPosition) keep adding to annotation[annotation_number]\n",
    "\n",
    "    return annotationStart, annotationNumber, annotation, imgCurrent"
   ]
  },
  {
   "cell_type": "markdown",
   "id": "ded7b9f9-075f-4c30-9824-d0507d0980c3",
   "metadata": {},
   "source": [
    "#### Gesture 7 - Erase the most recent: when index_finger , middle finger and ring_finger is up"
   ]
  },
  {
   "cell_type": "code",
   "execution_count": 26,
   "id": "b245ddeb-b6c4-493e-a954-5a1381d304fc",
   "metadata": {},
   "outputs": [],
   "source": [
    "def Erase_Drawing(annotation, annotationNumber,buttonPressed):\n",
    "    if annotation:  #if something is drawn on screen\n",
    "        if annotationNumber>=0:\n",
    "            annotation.pop(-1)  #removing most recent drawn item\n",
    "            annotationNumber-=1\n",
    "            buttonPressed=True\n",
    "\n",
    "    return annotation, annotationNumber, buttonPressed"
   ]
  },
  {
   "cell_type": "markdown",
   "id": "28a22418-0fd9-4b4e-b52d-52ed2cdc523d",
   "metadata": {},
   "source": [
    "#### Gesture 8 - Tacke a Screenshot : if index finger, middle finger, ring finger, and pinky finger are up"
   ]
  },
  {
   "cell_type": "code",
   "execution_count": 27,
   "id": "b79b6736-3ab8-4d5f-924d-f4830d478a7f",
   "metadata": {},
   "outputs": [],
   "source": [
    "def Take_Screenshot(imgCurrent, folderpath, image_number, annotation,buttonPressed):\n",
    "    screenshot_path = os.path.join(folderpath, f\"screenshot_{image_number}.png\")\n",
    "            \n",
    "    # Drawing the points added in list of annotation[annotationNumber]\n",
    "    for i in range(len(annotation)):\n",
    "        for j in range(len(annotation[i])):\n",
    "            if j > 0:\n",
    "                cv2.line(imgCurrent, annotation[i][j - 1], annotation[i][j], (0, 0, 200), 12)\n",
    "    cv2.imwrite(screenshot_path, imgCurrent)\n",
    "    print(f\"Screenshot taken: {screenshot_path}\")\n",
    "    buttonPressed = True\n",
    "\n",
    "    return buttonPressed"
   ]
  },
  {
   "cell_type": "markdown",
   "id": "ac0e8a86-0baf-4cb0-b0c2-9c5e253156d2",
   "metadata": {},
   "source": [
    "## Main Function"
   ]
  },
  {
   "cell_type": "code",
   "execution_count": 30,
   "id": "c1df570b-1ec2-481e-a6d2-bcfc9628047e",
   "metadata": {
    "scrolled": true
   },
   "outputs": [
    {
     "name": "stdout",
     "output_type": "stream",
     "text": [
      "Screenshot taken: ./Hand Gesture Recognisition\\screenshot_8.png\n",
      "Screenshot taken: ./Hand Gesture Recognisition\\screenshot_8.png\n",
      "Screenshot taken: ./Hand Gesture Recognisition\\screenshot_8.png\n",
      "Screenshot taken: ./Hand Gesture Recognisition\\screenshot_9.png\n",
      "Screenshot taken: ./Hand Gesture Recognisition\\screenshot_9.png\n",
      "Screenshot taken: ./Hand Gesture Recognisition\\screenshot_9.png\n",
      "Screenshot taken: ./Hand Gesture Recognisition\\screenshot_9.png\n"
     ]
    }
   ],
   "source": [
    "while True:\n",
    "    \n",
    "    #import images\n",
    "    success,img=cap.read()\n",
    "    image_path=os.path.join(folderpath,pathImages[image_number])\n",
    "    imgCurrent=cv2.imread(image_path)\n",
    "    # print(annotationNumber)\n",
    "    \n",
    "    #flip image\n",
    "    img=cv2.flip(img,1)\n",
    "\n",
    "    #Hand Detector\n",
    "    hands,img=detector.findHands(img)\n",
    "\n",
    "    #Gesture Threshold Line : if above face (above threshold line) then only detect it is a hand otherwise do nothing\n",
    "    cv2.line(img,(0,gestureThreshold),(width,gestureThreshold),(0,255,0),10)   \n",
    "    # NOTE : (0,0,255) - red color , (0,255,0) - green color , (255,0,0) - blue color : RGB\n",
    "    \n",
    "    if hands and buttonPressed==False:\n",
    "        \n",
    "        hand=hands[0] #capturing first hand\n",
    "        finger=detector.fingersUp(hand)  # finger[thumb,index_finger,middle_finger,ring_finger,pinky_finger]\n",
    "        cx,cy=hand[\"center\"]     # cx,cy postion of center point of hand\n",
    "        # print(finger)\n",
    "\n",
    "        \n",
    "        #Constrain region in screen to move pointer all over the screen without actually moving to end of the screen\n",
    "        landmark_list=hand[\"lmList\"]  # list of position of all fingers of hand\n",
    "        \n",
    "        indexFinger_xValue=landmark_list[8][0]\n",
    "        indexFinger_yValue=landmark_list[8][1]\n",
    "        \n",
    "        xVal = int(np.interp(indexFinger_xValue,[width//2,width_slide//1.2],[0,width]))\n",
    "        yVal = int(np.interp(indexFinger_yValue,[150,height_slide//1.5],[0,height]))\n",
    "\n",
    "        indexFingerPosition=xVal,yVal\n",
    "\n",
    "        if cy<=gestureThreshold: #if hand is at height of the face\n",
    "\n",
    "            ###############################################################\n",
    "            # Gesture 1 - move to previous slide : move left by thumb\n",
    "            ################################################################\n",
    "            \n",
    "            if finger==[1,0,0,0,0]:\n",
    "                image_number, annotation, annotationNumber, buttonPressed = Previous_Slide(image_number, annotation, annotationNumber,buttonPressed)                   \n",
    "                # print(\"left\")\n",
    "\n",
    "            #######################################################################\n",
    "            # Gesture 2 - move to next slide : move right by pinky finger\n",
    "            ########################################################################\n",
    "            \n",
    "            elif finger==[0,0,0,0,1]:  #if finger is pinky finger\n",
    "                image_number, annotation, annotationNumber, buttonPressed = Next_Slide(image_number, annotation, annotationNumber, pathImages,buttonPressed)\n",
    "                # print(\"right\")\n",
    "        \n",
    "            # NOTE : UNTIL AND UNLESS buttonCounter IS NOT GREATER THAN buttonDelay ABOVE CODE WILL NOT RUN!!\n",
    "\n",
    "        ################################################################################################\n",
    "        # Gesture 3 - Zoom in by 10% : we dont want to bound pointer by threshold line\n",
    "        # when index finger and thumb are up\n",
    "        ################################################################################################\n",
    "        \n",
    "        if finger == [1, 1, 0, 0, 0]:\n",
    "            zoom_factor,buttonPressed = Zoom_In(zoom_factor,buttonPressed)\n",
    "\n",
    "        #######################################################################################################\n",
    "        # Gesture 4 - Zoom out by 10 % : we dont want to bound pointer by threshold line\n",
    "        # when index finger and pinky finger are up\n",
    "        ########################################################################################################\n",
    "        \n",
    "        elif finger == [0, 1, 0, 0, 1]:\n",
    "            zoom_factor,buttonPressed = Zoom_Out(zoom_factor,buttonPressed)\n",
    "        \n",
    "        ###############################################################################\n",
    "        # Gesture 5 - show pointer : we dont want to bound pointer by threshold line\n",
    "        #if index_finger and middle_finger is up show pointer of color red with radius 12 in imgCurrent(Slide image) at position of index finger\n",
    "        ################################################################################\n",
    "        \n",
    "        elif finger==[0,1,1,0,0]:  \n",
    "            imgCurrent = Show_Pointer(imgCurrent, indexFingerPosition)\n",
    "\n",
    "        ####################################################################################\n",
    "        # Gesture 6 - draw in ppt : we dont want to bound pointer by threshold line\n",
    "        #if index_finger is up draw pointer of color red with radius 12 in imgCurrent(Slide image) at position of index finger\n",
    "        ###################################################################################\n",
    "        \n",
    "        elif finger==[0,1,0,0,0]:\n",
    "            annotationStart, annotationNumber, annotation, imgCurrent = Start_Drawing(annotationStart, annotationNumber, annotation, imgCurrent, indexFingerPosition)\n",
    "\n",
    "        #####################################################################################\n",
    "        #Gesture 7 - Erase : if index_finger , middle finger and ring_finger is up erase the most recent drawing\n",
    "        ###################################################################################\n",
    "        \n",
    "        elif finger==[0,1,1,1,0]:\n",
    "            annotation, annotationNumber, buttonPressed = Erase_Drawing(annotation, annotationNumber,buttonPressed)             \n",
    "       \n",
    "        ##############################################################################################\n",
    "        # Gesture 8 - Tacke a Screenshot : if index_finger, middle finger, ring_finger, and pinky_finger are up, take a screenshot\n",
    "        ##############################################################################################\n",
    "        \n",
    "        elif finger == [0, 1, 1, 1, 1]:\n",
    "            buttonPressed = Take_Screenshot(imgCurrent, folderpath, image_number, annotation,buttonPressed)\n",
    " \n",
    "    else:\n",
    "        annotationStart=False\n",
    "\n",
    "\n",
    "    #checking if the slide of ppt is changed or buttonPressed is true\n",
    "    if buttonPressed:\n",
    "        buttonCounter+=1\n",
    "        if buttonCounter>buttonDelay:    \n",
    "            buttonCounter=0\n",
    "            buttonPressed=False\n",
    "\n",
    "\n",
    "    #drawing the points added in list of annotation[annotationNumber]\n",
    "    for i in range(len(annotation)):\n",
    "        for j in range(len(annotation[i])):\n",
    "            if j>0:\n",
    "                cv2.line(imgCurrent,annotation[i][j-1],annotation[i][j],(0,0,200),12)\n",
    "\n",
    "\n",
    "    #Apply zoom to the current image\n",
    "    h, w = imgCurrent.shape[:2]\n",
    "    imgCurrent = cv2.resize(imgCurrent, (int(w * zoom_factor), int(h * zoom_factor)))\n",
    "\n",
    "\n",
    "    #Adding camera image on slide\n",
    "    small_camera_image=cv2.resize(img,(wd,ht))\n",
    "    height_slide,width_slide,_=imgCurrent.shape  #height and width of slide image\n",
    "    imgCurrent[height_slide-ht:height_slide , width_slide-wd:width_slide]=small_camera_image\n",
    "\n",
    "    \n",
    "    cv2.imshow(\"Slide\",imgCurrent) \n",
    "    cv2.imshow(\"Image\",img) #this will open new window displaying camera image\n",
    "\n",
    "    \n",
    "    key=cv2.waitKey(1)\n",
    "    if key == ord(\"q\"):\n",
    "        break\n",
    "    "
   ]
  },
  {
   "cell_type": "code",
   "execution_count": null,
   "id": "544d1e29-fd65-4fd9-be3c-fa3b8ba518b4",
   "metadata": {},
   "outputs": [],
   "source": []
  }
 ],
 "metadata": {
  "kernelspec": {
   "display_name": "Python 3 (ipykernel)",
   "language": "python",
   "name": "python3"
  },
  "language_info": {
   "codemirror_mode": {
    "name": "ipython",
    "version": 3
   },
   "file_extension": ".py",
   "mimetype": "text/x-python",
   "name": "python",
   "nbconvert_exporter": "python",
   "pygments_lexer": "ipython3",
   "version": "3.11.7"
  }
 },
 "nbformat": 4,
 "nbformat_minor": 5
}
